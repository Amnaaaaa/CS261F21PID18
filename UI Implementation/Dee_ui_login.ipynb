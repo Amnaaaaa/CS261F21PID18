{
 "cells": [
  {
   "cell_type": "code",
   "execution_count": 1,
   "id": "548f4b72",
   "metadata": {},
   "outputs": [
    {
     "name": "stdout",
     "output_type": "stream",
     "text": [
      "['Dr. Reckeweg R89 Hair Care Drop', 'bottle of 30 ml Drop', '₹271', 'Dr. Reckeweg R89 Hair Care Drop\\nbottle of 30 ml Drop\\n', 'Homeopathy', '5% off', 'bottle of 30 ml Drop']\n"
     ]
    },
    {
     "ename": "SystemExit",
     "evalue": "0",
     "output_type": "error",
     "traceback": [
      "An exception has occurred, use %tb to see the full traceback.\n",
      "\u001b[1;31mSystemExit\u001b[0m\u001b[1;31m:\u001b[0m 0\n"
     ]
    },
    {
     "name": "stderr",
     "output_type": "stream",
     "text": [
      "C:\\Users\\MAHNOOR SHAD\\anaconda3\\lib\\site-packages\\IPython\\core\\interactiveshell.py:3445: UserWarning: To exit: use 'exit', 'quit', or Ctrl-D.\n",
      "  warn(\"To exit: use 'exit', 'quit', or Ctrl-D.\", stacklevel=1)\n"
     ]
    }
   ],
   "source": [
    "from PyQt5 import QtCore, QtGui, QtWidgets\n",
    "from dee_UI_1 import Ui_Dialog\n",
    "class Ui_login(object):\n",
    "    def onMain(self):\n",
    "        self.window = QtWidgets.QWidget()\n",
    "        self.gui = Ui_Dialog()\n",
    "        self.gui.setupUi(self.window)\n",
    "        Form.hide()\n",
    "        self.window.show()\n",
    "    def setupUi(self, Dialog):\n",
    "        Dialog.setObjectName(\"Dialog\")\n",
    "        Dialog.resize(740, 540)\n",
    "        Dialog.setStyleSheet(\"background-color: rgb(153, 153, 153);\\n\"\n",
    "\"background-color: qlineargradient(spread:pad, x1:0, y1:0, x2:1, y2:1, stop:0 rgba(93, 93, 93, 255), stop:1 rgba(255, 255, 255, 255));\")\n",
    "        self.frame = QtWidgets.QFrame(Dialog)\n",
    "        self.frame.setGeometry(QtCore.QRect(0, 0, 801, 541))\n",
    "        self.frame.setStyleSheet(\"background-color: qlineargradient(spread:pad, x1:0, y1:0, x2:1, y2:1, stop:0 rgba(104, 180, 255, 255), stop:1 rgba(255, 255, 255, 255));\")\n",
    "        self.frame.setFrameShape(QtWidgets.QFrame.StyledPanel)\n",
    "        self.frame.setFrameShadow(QtWidgets.QFrame.Raised)\n",
    "        self.frame.setObjectName(\"frame\")\n",
    "        self.plainTextEdit = QtWidgets.QPlainTextEdit(self.frame)\n",
    "        self.plainTextEdit.setGeometry(QtCore.QRect(0, 0, 971, 41))\n",
    "        self.plainTextEdit.setStyleSheet(\"font: 75 20pt \\\"Segoe UI\\\";\\n\"\n",
    "\"background-color: qlineargradient(spread:pad, x1:0, y1:0, x2:1, y2:1, stop:0 rgba(99, 169, 255, 255), stop:1 rgba(255, 255, 255, 255));\")\n",
    "        self.plainTextEdit.setObjectName(\"plainTextEdit\")\n",
    "        self.lineEdit = QtWidgets.QLineEdit(self.frame)\n",
    "        self.lineEdit.setGeometry(QtCore.QRect(-20, 520, 761, 20))\n",
    "        self.lineEdit.setStyleSheet(\"background-color: qlineargradient(spread:pad, x1:0, y1:0, x2:1, y2:1, stop:0 rgba(99, 169, 255, 255), stop:1 rgba(255, 255, 255, 255));\")\n",
    "        self.lineEdit.setObjectName(\"lineEdit\")\n",
    "        self.label_2 = QtWidgets.QLabel(self.frame)\n",
    "        self.label_2.setGeometry(QtCore.QRect(-130, 40, 871, 481))\n",
    "        self.label_2.setObjectName(\"label_2\")\n",
    "        self.frame_3 = QtWidgets.QFrame(self.frame)\n",
    "        self.frame_3.setGeometry(QtCore.QRect(10, 50, 321, 281))\n",
    "        self.frame_3.setStyleSheet(\"background-color: qlineargradient(spread:pad, x1:0, y1:0, x2:1, y2:1, stop:0 rgba(57, 147, 255, 255), stop:1 rgba(255, 255, 255, 255));\")\n",
    "        self.frame_3.setFrameShape(QtWidgets.QFrame.StyledPanel)\n",
    "        self.frame_3.setFrameShadow(QtWidgets.QFrame.Raised)\n",
    "        self.frame_3.setObjectName(\"frame_3\")\n",
    "        self.lineEdit_2 = QtWidgets.QLineEdit(self.frame_3)\n",
    "        self.lineEdit_2.setGeometry(QtCore.QRect(110, 10, 121, 31))\n",
    "        self.lineEdit_2.setStyleSheet(\"font: 75 18pt \\\"MS Shell Dlg 2\\\";\\n\"\n",
    "\"background-color: qlineargradient(spread:pad, x1:0, y1:0, x2:1, y2:1, stop:0 rgba(120, 181, 255, 255), stop:1 rgba(255, 255, 255, 255));\")\n",
    "        self.lineEdit_2.setObjectName(\"lineEdit_2\")\n",
    "        self.lineEdit_3 = QtWidgets.QLineEdit(self.frame_3)\n",
    "        self.lineEdit_3.setGeometry(QtCore.QRect(50, 60, 261, 41))\n",
    "        self.lineEdit_3.setStyleSheet(\"font: 12pt \\\"MS Shell Dlg 2\\\";\")\n",
    "        self.lineEdit_3.setObjectName(\"lineEdit_3\")\n",
    "        self.lineEdit_4 = QtWidgets.QLineEdit(self.frame_3)\n",
    "        self.lineEdit_4.setGeometry(QtCore.QRect(50, 120, 261, 41))\n",
    "        self.lineEdit_4.setStyleSheet(\"font: 12pt \\\"MS Shell Dlg 2\\\";\")\n",
    "        self.lineEdit_4.setObjectName(\"lineEdit_4\")\n",
    "        self.checkBox = QtWidgets.QCheckBox(self.frame_3)\n",
    "        self.checkBox.setGeometry(QtCore.QRect(50, 170, 91, 17))\n",
    "        self.checkBox.setObjectName(\"checkBox\")\n",
    "        self.pushButton = QtWidgets.QPushButton(self.frame_3)\n",
    "        self.pushButton.setGeometry(QtCore.QRect(40, 210, 261, 31))\n",
    "        self.pushButton.setStyleSheet(\"font: 75 14pt \\\"MS Shell Dlg 2\\\";\")\n",
    "        self.pushButton.setObjectName(\"pushButton\")\n",
    "        self.pushButton.clicked.connect(self.onMain)\n",
    "        self.commandLinkButton = QtWidgets.QCommandLinkButton(self.frame_3)\n",
    "        self.commandLinkButton.setGeometry(QtCore.QRect(190, 240, 131, 31))\n",
    "        self.commandLinkButton.setObjectName(\"commandLinkButton\")\n",
    "#         self.label = QtWidgets.QLabel(self.frame_3)\n",
    "#         self.label.setGeometry(QtCore.QRect(0, 60, 51, 41))\n",
    "#         self.label.setObjectName(\"label\")\n",
    "#         self.label_3 = QtWidgets.QLabel(self.frame_3)\n",
    "#         self.label_3.setGeometry(QtCore.QRect(10, 120, 31, 41))\n",
    "#         self.label_3.setObjectName(\"label_3\")\n",
    "\n",
    "        self.retranslateUi(Dialog)\n",
    "        QtCore.QMetaObject.connectSlotsByName(Dialog)\n",
    "\n",
    "    def retranslateUi(self, Dialog):\n",
    "        _translate = QtCore.QCoreApplication.translate\n",
    "        Dialog.setWindowTitle(_translate(\"Dialog\", \"Dialog\"))\n",
    "        self.plainTextEdit.setPlainText(_translate(\"Dialog\", \"                                           CURE  VIBE\"))\n",
    "        self.lineEdit.setText(_translate(\"Dialog\", \"         2020-CS-146                                                                                             Pharmacy                                                                                          2020-CS-123\"))\n",
    "        self.label_2.setText(_translate(\"Dialog\", \"<html><head/><body><p><img src=\\\":/newPrefix/pic4.png\\\"/></p></body></html>\"))\n",
    "        self.lineEdit_2.setText(_translate(\"Dialog\", \"   Log In\"))\n",
    "        self.lineEdit_3.setText(_translate(\"Dialog\", \"Username\"))\n",
    "        self.lineEdit_4.setText(_translate(\"Dialog\", \"Password\"))\n",
    "        self.checkBox.setText(_translate(\"Dialog\", \"Remember me!\"))\n",
    "        self.pushButton.setText(_translate(\"Dialog\", \"SUBMIT\"))\n",
    "        self.commandLinkButton.setText(_translate(\"Dialog\", \"Forget Password\"))\n",
    "#         self.label.setText(_translate(\"Dialog\", \"<html><head/><body><p><img src=\\\":/newPrefix/icons8_user_50px.png\\\"/></p></body></html>\"))\n",
    "#         self.label_3.setText(_translate(\"Dialog\", \"<html><head/><body><p><img src=\\\":/newPrefix/icons8_password_26px.png\\\"/></p></body></html>\"))\n",
    "\n",
    "import login1\n",
    "if __name__ == \"__main__\":\n",
    "    import sys\n",
    "    app = QtWidgets.QApplication(sys.argv)\n",
    "    Form = QtWidgets.QWidget()\n",
    "    ui = Ui_login()\n",
    "    ui.setupUi(Form)\n",
    "    Form.show()\n",
    "    sys.exit(app.exec_())"
   ]
  },
  {
   "cell_type": "code",
   "execution_count": null,
   "id": "a470a8b4",
   "metadata": {},
   "outputs": [],
   "source": []
  },
  {
   "cell_type": "code",
   "execution_count": null,
   "id": "40b3302b",
   "metadata": {},
   "outputs": [],
   "source": []
  },
  {
   "cell_type": "code",
   "execution_count": null,
   "id": "cb43426d",
   "metadata": {},
   "outputs": [],
   "source": []
  }
 ],
 "metadata": {
  "kernelspec": {
   "display_name": "Python 3",
   "language": "python",
   "name": "python3"
  },
  "language_info": {
   "codemirror_mode": {
    "name": "ipython",
    "version": 3
   },
   "file_extension": ".py",
   "mimetype": "text/x-python",
   "name": "python",
   "nbconvert_exporter": "python",
   "pygments_lexer": "ipython3",
   "version": "3.8.8"
  }
 },
 "nbformat": 4,
 "nbformat_minor": 5
}
